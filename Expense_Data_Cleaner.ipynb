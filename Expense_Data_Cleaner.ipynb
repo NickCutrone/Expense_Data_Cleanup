{
 "cells": [
  {
   "cell_type": "markdown",
   "metadata": {},
   "source": [
    "Personal Finance: Expense Data Cleaner"
   ]
  },
  {
   "cell_type": "code",
   "execution_count": 12,
   "metadata": {},
   "outputs": [],
   "source": [
    "#Import required libraries\n",
    "import pandas as pd\n",
    "import numpy as np\n",
    "import matplotlib.pyplot as plt\n",
    "import seaborn as sns\n",
    "from sklearn.ensemble import IsolationForest"
   ]
  },
  {
   "cell_type": "code",
   "execution_count": 13,
   "metadata": {},
   "outputs": [
    {
     "name": "stdout",
     "output_type": "stream",
     "text": [
      "         Date Merchant  Amount  Category\n",
      "0  2025-01-11   Amazon  876.32  Shopping\n",
      "1  2024-11-28   Amazon  284.17  Shopping\n",
      "2  2024-10-10   Amazon  267.79  Shopping\n",
      "3  2024-11-05   Amazon  252.19  Shopping\n",
      "4  2024-11-15   Amazon  246.57  Shopping\n"
     ]
    }
   ],
   "source": [
    "# GitHub raw CSV file\n",
    "url = \"https://raw.githubusercontent.com/NickCutrone/Expense_Data_Cleanup/refs/heads/main/sample_data.csv\"\n",
    "\n",
    "# Load the CSV file into a DataFrame\n",
    "df = pd.read_csv(url)\n",
    "\n",
    "# Display the first few rows\n",
    "print(df.head())"
   ]
  },
  {
   "cell_type": "code",
   "execution_count": 14,
   "metadata": {},
   "outputs": [
    {
     "name": "stdout",
     "output_type": "stream",
     "text": [
      "         Date Merchant  Amount  Category\n",
      "0  2025-01-11   Amazon  876.32  Shopping\n",
      "1  2024-11-28   Amazon  284.17  Shopping\n",
      "2  2024-10-10   Amazon  267.79  Shopping\n",
      "3  2024-11-05   Amazon  252.19  Shopping\n",
      "4  2024-11-15   Amazon  246.57  Shopping\n"
     ]
    }
   ],
   "source": [
    "# Display first few rows\n",
    "print(df.head())"
   ]
  },
  {
   "cell_type": "code",
   "execution_count": 15,
   "metadata": {},
   "outputs": [],
   "source": [
    "# Standardize merchant names\n",
    "merchant_mapping = {\n",
    "    'Water Bill': 'Water Bill',\n",
    "    'Spotify': 'Spotify',\n",
    "    'Netflix': 'Netflix',\n",
    "    'Amazon': 'Amazon',\n",
    "    'Apple Store': 'Apple Store',\n",
    "    'Electricity Bill': 'Electricity Bill',\n",
    "    'Lyft': 'Lyft',\n",
    "    'Insurance': 'Insurance',\n",
    "    'Gym Membership': 'Gym Membership',\n",
    "    'Uber': 'Uber',\n",
    "    'Phone Bill': 'Phone Bill',\n",
    "    \"McDonald's\": \"McDonald's\",\n",
    "    'Walmart': 'Walmart',\n",
    "    'Restaurant': 'Restaurant',\n",
    "    'Rent Payment': 'Rent Payment',\n",
    "    'Shell Gas': 'Shell Gas',\n",
    "    'Starbucks': 'Starbucks',\n",
    "    'Best Buy': 'Best Buy',\n",
    "    'BP Gas': 'BP Gas',\n",
    "    'Target': 'Target'\n",
    "}\n",
    "df['Merchant'] = df['Merchant'].replace(merchant_mapping)"
   ]
  },
  {
   "cell_type": "code",
   "execution_count": 16,
   "metadata": {},
   "outputs": [],
   "source": [
    "# Data quality checks\n",
    "df['Duplicate'] = df.duplicated(subset=['Date', 'Merchant', 'Amount'])\n",
    "df['Missing Values'] = df.isnull().sum(axis=1) > 0"
   ]
  },
  {
   "cell_type": "code",
   "execution_count": 17,
   "metadata": {},
   "outputs": [],
   "source": [
    "# Categorize expenses\n",
    "category_mapping = {\n",
    "    'Amazon': 'Shopping',\n",
    "    'Uber': 'Transport',\n",
    "    'Lyft': 'Transport',\n",
    "    'Starbucks': 'Food & Drink',\n",
    "    \"McDonald's\": 'Food & Drink',\n",
    "    'Restaurant': 'Food & Drink',\n",
    "    'Netflix': 'Entertainment',\n",
    "    'Spotify': 'Entertainment',\n",
    "    'Apple Store': 'Shopping',\n",
    "    'Target': 'Shopping',\n",
    "    'Best Buy': 'Electronics',\n",
    "    'Shell Gas': 'Gas',\n",
    "    'BP Gas': 'Gas',\n",
    "    'Walmart': 'Groceries',\n",
    "    'Rent Payment': 'Housing',\n",
    "    'Gym Membership': 'Health & Fitness',\n",
    "    'Insurance': 'Bills',\n",
    "    'Phone Bill': 'Bills',\n",
    "    'Electricity Bill': 'Utilities',\n",
    "    'Water Bill': 'Utilities'\n",
    "}\n",
    "df['Category'] = df['Merchant'].map(category_mapping)"
   ]
  },
  {
   "cell_type": "code",
   "execution_count": 18,
   "metadata": {},
   "outputs": [
    {
     "name": "stdout",
     "output_type": "stream",
     "text": [
      "           Date   Merchant   Amount Category  Duplicate  Missing Values\n",
      "36   2024-10-14  AMZN-2243   244.14      NaN      False           False\n",
      "397  2024-11-13    SB-3399    14.72      NaN      False           False\n",
      "610  2024-12-26        NaN  2478.65      NaN      False            True\n",
      "611  2024-10-03        NaN  2425.09      NaN      False            True\n",
      "612  2024-10-11        NaN  2194.14      NaN      False            True\n",
      "613  2025-01-21        NaN  1798.14      NaN      False            True\n",
      "614  2024-11-03        NaN  1434.72      NaN      False            True\n",
      "615  2024-09-21        NaN   975.37      NaN      False            True\n",
      "616  2024-10-23        NaN   538.24      NaN      False            True\n",
      "617  2024-11-30        NaN   394.30      NaN      False            True\n",
      "618  2025-01-03        NaN   164.30      NaN      False            True\n",
      "619  2024-11-09        NaN    65.15      NaN      False            True\n"
     ]
    }
   ],
   "source": [
    "df['Category'] = df['Merchant'].map(category_mapping)\n",
    "\n",
    "# Isolate rows where Merchant or Category is missing\n",
    "unmapped_data = df[df['Merchant'].isna() | df['Category'].isna()]\n",
    "\n",
    "# Display unmapped data\n",
    "print(unmapped_data)"
   ]
  },
  {
   "cell_type": "code",
   "execution_count": 19,
   "metadata": {},
   "outputs": [
    {
     "name": "stderr",
     "output_type": "stream",
     "text": [
      "/var/folders/9w/gyqxr8zd0dx5qzc697rly9p00000gn/T/ipykernel_32253/3918141514.py:12: FutureWarning: Downcasting object dtype arrays on .fillna, .ffill, .bfill is deprecated and will change in a future version. Call result.infer_objects(copy=False) instead. To opt-in to the future behavior, set `pd.set_option('future.no_silent_downcasting', True)`\n",
      "  df['Anomalous'] = df['Anomalous'].fillna(False).astype(bool)\n"
     ]
    }
   ],
   "source": [
    "# Detect anomalous expenses for Each Merchant and Category\n",
    "for (merchant, category), group in df.groupby(['Merchant', 'Category']):\n",
    "    if len(group) > 5:  # Ensure enough samples for isolation forest\n",
    "        iso_forest = IsolationForest(contamination=0.05, random_state=42)\n",
    "        anomaly_scores = iso_forest.fit_predict(group[['Amount']])\n",
    "        df.loc[group.index, 'Anomaly_Score'] = anomaly_scores\n",
    "        df.loc[group.index, 'Anomalous'] = anomaly_scores == -1\n",
    "    else:\n",
    "        df.loc[group.index, 'Anomalous'] = False\n",
    "\n",
    "# Ensure 'Anomalous' column is boolean and handle NaN values\n",
    "df['Anomalous'] = df['Anomalous'].fillna(False).astype(bool)"
   ]
  },
  {
   "cell_type": "code",
   "execution_count": 20,
   "metadata": {},
   "outputs": [
    {
     "name": "stdout",
     "output_type": "stream",
     "text": [
      "           Date          Merchant    Amount          Category  Duplicate  \\\n",
      "0    2025-01-11            Amazon    876.32          Shopping      False   \n",
      "35   2024-10-30            Amazon     12.20          Shopping      False   \n",
      "37   2024-10-24       Apple Store   2598.08          Shopping      False   \n",
      "54   2024-11-26          Best Buy   8901.12       Electronics      False   \n",
      "67   2024-09-21          Best Buy      0.02       Electronics      False   \n",
      "77   2024-11-21            BP Gas     98.98               Gas      False   \n",
      "82   2024-10-20            BP Gas    332.21               Gas      False   \n",
      "129  2024-08-14  Electricity Bill    799.22         Utilities      False   \n",
      "146  2025-01-01  Electricity Bill     42.03         Utilities      False   \n",
      "163  2024-11-17    Gym Membership    500.00  Health & Fitness      False   \n",
      "174  2024-10-07    Gym Membership     23.09  Health & Fitness      False   \n",
      "175  2024-11-12         Insurance    494.50             Bills      False   \n",
      "182  2024-09-21         Insurance   1001.91             Bills      False   \n",
      "217  2024-12-09              Lyft     81.19         Transport      False   \n",
      "243  2024-11-05              Lyft      5.22         Transport      False   \n",
      "244  2025-01-15        McDonald's     19.50      Food & Drink      False   \n",
      "280  2025-02-01        McDonald's      5.28      Food & Drink      False   \n",
      "281  2024-11-25           Netflix     19.97     Entertainment      False   \n",
      "288  2025-01-27           Netflix    148.08     Entertainment      False   \n",
      "324  2024-11-20        Phone Bill    638.26             Bills      False   \n",
      "336  2025-02-10        Phone Bill     31.52             Bills      False   \n",
      "352  2024-09-20      Rent Payment  18956.97           Housing      False   \n",
      "369  2024-10-30      Rent Payment    873.51           Housing      False   \n",
      "370  2024-12-28        Restaurant     99.65      Food & Drink      False   \n",
      "386  2024-10-27        Restaurant    340.83      Food & Drink      False   \n",
      "424  2024-09-01         Shell Gas    295.65               Gas      False   \n",
      "430  2024-10-24         Shell Gas     30.34               Gas      False   \n",
      "444  2024-08-18           Spotify    136.10     Entertainment      False   \n",
      "461  2024-10-25           Spotify     10.08     Entertainment      False   \n",
      "462  2024-09-22         Starbucks     14.95      Food & Drink      False   \n",
      "472  2024-09-07         Starbucks     94.14      Food & Drink      False   \n",
      "505  2024-09-13            Target   1095.43          Shopping      False   \n",
      "516  2025-01-04            Target     11.12          Shopping      False   \n",
      "546  2024-08-18              Uber    101.36         Transport      False   \n",
      "548  2024-11-12              Uber      7.40         Transport      False   \n",
      "552  2025-01-25           Walmart   1984.22         Groceries      False   \n",
      "580  2024-12-26           Walmart     17.61         Groceries      False   \n",
      "587  2024-08-19        Water Bill    366.95         Utilities      False   \n",
      "609  2024-11-28        Water Bill     21.51         Utilities      False   \n",
      "\n",
      "     Missing Values  Anomaly_Score  Anomalous  \n",
      "0             False           -1.0       True  \n",
      "35            False           -1.0       True  \n",
      "37            False           -1.0       True  \n",
      "54            False           -1.0       True  \n",
      "67            False           -1.0       True  \n",
      "77            False           -1.0       True  \n",
      "82            False           -1.0       True  \n",
      "129           False           -1.0       True  \n",
      "146           False           -1.0       True  \n",
      "163           False           -1.0       True  \n",
      "174           False           -1.0       True  \n",
      "175           False           -1.0       True  \n",
      "182           False           -1.0       True  \n",
      "217           False           -1.0       True  \n",
      "243           False           -1.0       True  \n",
      "244           False           -1.0       True  \n",
      "280           False           -1.0       True  \n",
      "281           False           -1.0       True  \n",
      "288           False           -1.0       True  \n",
      "324           False           -1.0       True  \n",
      "336           False           -1.0       True  \n",
      "352           False           -1.0       True  \n",
      "369           False           -1.0       True  \n",
      "370           False           -1.0       True  \n",
      "386           False           -1.0       True  \n",
      "424           False           -1.0       True  \n",
      "430           False           -1.0       True  \n",
      "444           False           -1.0       True  \n",
      "461           False           -1.0       True  \n",
      "462           False           -1.0       True  \n",
      "472           False           -1.0       True  \n",
      "505           False           -1.0       True  \n",
      "516           False           -1.0       True  \n",
      "546           False           -1.0       True  \n",
      "548           False           -1.0       True  \n",
      "552           False           -1.0       True  \n",
      "580           False           -1.0       True  \n",
      "587           False           -1.0       True  \n",
      "609           False           -1.0       True  \n"
     ]
    }
   ],
   "source": [
    "# Display anomalous expenses\n",
    "print(df[df['Anomalous']])"
   ]
  },
  {
   "cell_type": "code",
   "execution_count": 21,
   "metadata": {},
   "outputs": [],
   "source": [
    "# Save cleaned data to CSV\n",
    "df.to_csv('cleaned_expenses.csv', index=False)"
   ]
  },
  {
   "cell_type": "code",
   "execution_count": 22,
   "metadata": {},
   "outputs": [
    {
     "name": "stdout",
     "output_type": "stream",
     "text": [
      "         Date Merchant  Amount  Category  Duplicate  Missing Values  \\\n",
      "0  2025-01-11   Amazon  876.32  Shopping      False           False   \n",
      "1  2024-11-28   Amazon  284.17  Shopping      False           False   \n",
      "2  2024-10-10   Amazon  267.79  Shopping      False           False   \n",
      "3  2024-11-05   Amazon  252.19  Shopping      False           False   \n",
      "4  2024-11-15   Amazon  246.57  Shopping      False           False   \n",
      "\n",
      "   Anomaly_Score  Anomalous  \n",
      "0           -1.0       True  \n",
      "1            1.0      False  \n",
      "2            1.0      False  \n",
      "3            1.0      False  \n",
      "4            1.0      False  \n"
     ]
    }
   ],
   "source": [
    "# Display final processed DataFrame\n",
    "print(df.head())"
   ]
  }
 ],
 "metadata": {
  "kernelspec": {
   "display_name": "base",
   "language": "python",
   "name": "python3"
  },
  "language_info": {
   "codemirror_mode": {
    "name": "ipython",
    "version": 3
   },
   "file_extension": ".py",
   "mimetype": "text/x-python",
   "name": "python",
   "nbconvert_exporter": "python",
   "pygments_lexer": "ipython3",
   "version": "3.12.7"
  }
 },
 "nbformat": 4,
 "nbformat_minor": 2
}
