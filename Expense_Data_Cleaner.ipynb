{
 "cells": [
  {
   "cell_type": "markdown",
   "metadata": {},
   "source": [
    "Personal Finance: Expense Data Cleaner"
   ]
  },
  {
   "cell_type": "code",
   "execution_count": null,
   "metadata": {},
   "outputs": [],
   "source": [
    "# Import required libraries\n",
    "import pandas as pd\n",
    "import numpy as np\n",
    "import matplotlib.pyplot as plt\n",
    "import seaborn as sns\n",
    "from sklearn.ensemble import IsolationForest"
   ]
  },
  {
   "cell_type": "code",
   "execution_count": null,
   "metadata": {},
   "outputs": [],
   "source": [
    "# GitHub raw CSV file\n",
    "url = \"https://raw.githubusercontent.com/NickCutrone/Expense_Data_Cleanup/refs/heads/main/sample_data.csv\"\n",
    "\n",
    "# Load the CSV file into a DataFrame\n",
    "df = pd.read_csv(url)\n",
    "\n",
    "# Display the first few rows\n",
    "print(df.head())"
   ]
  },
  {
   "cell_type": "code",
   "execution_count": null,
   "metadata": {},
   "outputs": [],
   "source": [
    "# Display first few rows\n",
    "print(df.head())"
   ]
  },
  {
   "cell_type": "code",
   "execution_count": null,
   "metadata": {},
   "outputs": [],
   "source": [
    "# Standardize merchant names\n",
    "merchant_mapping = {\n",
    "    'Water Bill': 'Water Bill',\n",
    "    'Spotify': 'Spotify',\n",
    "    'Netflix': 'Netflix',\n",
    "    'Amazon': 'Amazon',\n",
    "    'Apple Store': 'Apple Store',\n",
    "    'Electricity Bill': 'Electricity Bill',\n",
    "    'Lyft': 'Lyft',\n",
    "    'Insurance': 'Insurance',\n",
    "    'Gym Membership': 'Gym Membership',\n",
    "    'Uber': 'Uber',\n",
    "    'Phone Bill': 'Phone Bill',\n",
    "    \"McDonald's\": \"McDonald's\",\n",
    "    'Walmart': 'Walmart',\n",
    "    'Restaurant': 'Restaurant',\n",
    "    'Rent Payment': 'Rent Payment',\n",
    "    'Shell Gas': 'Shell Gas',\n",
    "    'Starbucks': 'Starbucks',\n",
    "    'Best Buy': 'Best Buy',\n",
    "    'BP Gas': 'BP Gas',\n",
    "    'Target': 'Target'\n",
    "}\n",
    "df['Merchant'] = df['Merchant'].replace(merchant_mapping)"
   ]
  },
  {
   "cell_type": "code",
   "execution_count": null,
   "metadata": {},
   "outputs": [],
   "source": [
    "# Data quality checks\n",
    "df['Duplicate'] = df.duplicated(subset=['Date', 'Merchant', 'Amount'])\n",
    "df['Missing Values'] = df.isnull().sum(axis=1) > 0"
   ]
  },
  {
   "cell_type": "code",
   "execution_count": null,
   "metadata": {},
   "outputs": [],
   "source": [
    "# Categorize expenses\n",
    "category_mapping = {\n",
    "    'Amazon': 'Shopping',\n",
    "    'Uber': 'Transport',\n",
    "    'Lyft': 'Transport',\n",
    "    'Starbucks': 'Food & Drink',\n",
    "    \"McDonald's\": 'Food & Drink',\n",
    "    'Restaurant': 'Food & Drink',\n",
    "    'Netflix': 'Entertainment',\n",
    "    'Spotify': 'Entertainment',\n",
    "    'Apple Store': 'Shopping',\n",
    "    'Target': 'Shopping',\n",
    "    'Best Buy': 'Electronics',\n",
    "    'Shell Gas': 'Gas',\n",
    "    'BP Gas': 'Gas',\n",
    "    'Walmart': 'Groceries',\n",
    "    'Rent Payment': 'Housing',\n",
    "    'Gym Membership': 'Health & Fitness',\n",
    "    'Insurance': 'Bills',\n",
    "    'Phone Bill': 'Bills',\n",
    "    'Electricity Bill': 'Utilities',\n",
    "    'Water Bill': 'Utilities'\n",
    "}\n",
    "df['Category'] = df['Merchant'].map(category_mapping)"
   ]
  },
  {
   "cell_type": "code",
   "execution_count": null,
   "metadata": {},
   "outputs": [],
   "source": [
    "df['Category'] = df['Merchant'].map(category_mapping)\n",
    "\n",
    "# Isolate rows where Merchant or Category is missing\n",
    "unmapped_data = df[df['Merchant'].isna() | df['Category'].isna()]\n",
    "\n",
    "# Display unmapped data\n",
    "print(unmapped_data)"
   ]
  },
  {
   "cell_type": "code",
   "execution_count": null,
   "metadata": {},
   "outputs": [],
   "source": [
    "# Ensure 'Anomalous' column exists with boolean dtype before processing\n",
    "df['Anomalous'] = False  # Default all values to False\n",
    "\n",
    "# Detect anomalous expenses for Each Merchant and Category\n",
    "for (merchant, category), group in df.groupby(['Merchant', 'Category']):\n",
    "    if len(group) > 5:  # Ensure enough samples for Isolation Forest\n",
    "        iso_forest = IsolationForest(contamination=0.05, random_state=42)\n",
    "        anomaly_scores = iso_forest.fit_predict(group[['Amount']])\n",
    "        df.loc[group.index, 'Anomaly_Score'] = anomaly_scores\n",
    "        df.loc[group.index, 'Anomalous'] = anomaly_scores == -1"
   ]
  },
  {
   "cell_type": "code",
   "execution_count": null,
   "metadata": {},
   "outputs": [],
   "source": [
    "# Display anomalous expenses\n",
    "print(df[df['Anomalous']])"
   ]
  },
  {
   "cell_type": "code",
   "execution_count": null,
   "metadata": {},
   "outputs": [],
   "source": [
    "# Save cleaned data to CSV\n",
    "df.to_csv('cleaned_expenses.csv', index=False)"
   ]
  },
  {
   "cell_type": "code",
   "execution_count": null,
   "metadata": {},
   "outputs": [],
   "source": [
    "# Display first few rows of final processed DataFrame\n",
    "print(df.head())"
   ]
  }
 ],
 "metadata": {
  "kernelspec": {
   "display_name": "base",
   "language": "python",
   "name": "python3"
  },
  "language_info": {
   "codemirror_mode": {
    "name": "ipython",
    "version": 3
   },
   "file_extension": ".py",
   "mimetype": "text/x-python",
   "name": "python",
   "nbconvert_exporter": "python",
   "pygments_lexer": "ipython3",
   "version": "3.12.7"
  }
 },
 "nbformat": 4,
 "nbformat_minor": 2
}
